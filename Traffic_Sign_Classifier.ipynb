{
 "cells": [
  {
   "cell_type": "markdown",
   "metadata": {},
   "source": [
    "# Self-Driving Car Engineer Nanodegree\n",
    "\n",
    "## Deep Learning\n",
    "\n",
    "## Project: Build a Traffic Sign Recognition Classifier\n",
    "\n",
    "In this notebook, a template is provided for you to implement your functionality in stages, which is required to successfully complete this project. If additional code is required that cannot be included in the notebook, be sure that the Python code is successfully imported and included in your submission if necessary. \n",
    "\n",
    "> **Note**: Once you have completed all of the code implementations, you need to finalize your work by exporting the iPython Notebook as an HTML document. Before exporting the notebook to html, all of the code cells need to have been run so that reviewers can see the final implementation and output. You can then export the notebook by using the menu above and navigating to  \\n\",\n",
    "    \"**File -> Download as -> HTML (.html)**. Include the finished document along with this notebook as your submission. \n",
    "\n",
    "In addition to implementing code, there is a writeup to complete. The writeup should be completed in a separate file, which can be either a markdown file or a pdf document. There is a [write up template](https://github.com/udacity/CarND-Traffic-Sign-Classifier-Project/blob/master/writeup_template.md) that can be used to guide the writing process. Completing the code template and writeup template will cover all of the [rubric points](https://review.udacity.com/#!/rubrics/481/view) for this project.\n",
    "\n",
    "The [rubric](https://review.udacity.com/#!/rubrics/481/view) contains \"Stand Out Suggestions\" for enhancing the project beyond the minimum requirements. The stand out suggestions are optional. If you decide to pursue the \"stand out suggestions\", you can include the code in this Ipython notebook and also discuss the results in the writeup file.\n",
    "\n",
    "\n",
    ">**Note:** Code and Markdown cells can be executed using the **Shift + Enter** keyboard shortcut. In addition, Markdown cells can be edited by typically double-clicking the cell to enter edit mode."
   ]
  },
  {
   "cell_type": "markdown",
   "metadata": {},
   "source": [
    "---\n",
    "## Step 0: Load The Data"
   ]
  },
  {
   "cell_type": "code",
   "execution_count": 39,
   "metadata": {
    "scrolled": true
   },
   "outputs": [
    {
     "name": "stdout",
     "output_type": "stream",
     "text": [
      "(32, 32, 3)\n",
      "43\n"
     ]
    }
   ],
   "source": [
    "# Load pickled data\n",
    "import pickle\n",
    "\n",
    "# TODO: Fill this in based on where you saved the training and testing data\n",
    "\n",
    "training_file = 'traffic-signs-data/train.p'\n",
    "validation_file= 'traffic-signs-data/valid.p'\n",
    "testing_file = 'traffic-signs-data/test.p'\n",
    "\n",
    "with open(training_file, mode='rb') as f:\n",
    "    train = pickle.load(f)\n",
    "with open(validation_file, mode='rb') as f:\n",
    "    valid = pickle.load(f)\n",
    "with open(testing_file, mode='rb') as f:\n",
    "    test = pickle.load(f)\n",
    "    \n",
    "X_train, y_train = train['features'], train['labels']\n",
    "X_valid, y_valid = valid['features'], valid['labels']\n",
    "X_test, y_test = test['features'], test['labels']\n",
    "\n",
    "print(X_train.shape[1:])\n",
    "print(len(set(y_train)))"
   ]
  },
  {
   "cell_type": "markdown",
   "metadata": {},
   "source": [
    "---\n",
    "\n",
    "## Step 1: Dataset Summary & Exploration\n",
    "\n",
    "The pickled data is a dictionary with 4 key/value pairs:\n",
    "\n",
    "- `'features'` is a 4D array containing raw pixel data of the traffic sign images, (num examples, width, height, channels).\n",
    "- `'labels'` is a 1D array containing the label/class id of the traffic sign. The file `signnames.csv` contains id -> name mappings for each id.\n",
    "- `'sizes'` is a list containing tuples, (width, height) representing the original width and height the image.\n",
    "- `'coords'` is a list containing tuples, (x1, y1, x2, y2) representing coordinates of a bounding box around the sign in the image. **THESE COORDINATES ASSUME THE ORIGINAL IMAGE. THE PICKLED DATA CONTAINS RESIZED VERSIONS (32 by 32) OF THESE IMAGES**\n",
    "\n",
    "Complete the basic data summary below. Use python, numpy and/or pandas methods to calculate the data summary rather than hard coding the results. For example, the [pandas shape method](http://pandas.pydata.org/pandas-docs/stable/generated/pandas.DataFrame.shape.html) might be useful for calculating some of the summary results. "
   ]
  },
  {
   "cell_type": "markdown",
   "metadata": {},
   "source": [
    "### Provide a Basic Summary of the Data Set Using Python, Numpy and/or Pandas"
   ]
  },
  {
   "cell_type": "code",
   "execution_count": 40,
   "metadata": {},
   "outputs": [
    {
     "name": "stdout",
     "output_type": "stream",
     "text": [
      "Number of training examples = 34799\n",
      "Number of testing examples = 12630\n",
      "Image data shape = (32, 32, 3)\n",
      "Number of classes = 43\n"
     ]
    }
   ],
   "source": [
    "### Replace each question mark with the appropriate value. \n",
    "### Use python, pandas or numpy methods rather than hard coding the results\n",
    "\n",
    "# TODO: Number of training examples\n",
    "\n",
    "n_train = X_train.shape[0]\n",
    "\n",
    "# TODO: Number of validation examples\n",
    "n_validation = X_valid.shape[0]\n",
    "\n",
    "# TODO: Number of testing examples.\n",
    "n_test = X_test.shape[0]\n",
    "\n",
    "# TODO: What's the shape of an traffic sign image?\n",
    "image_shape = X_train.shape[1:]\n",
    "\n",
    "# TODO: How many unique classes/labels there are in the dataset.\n",
    "n_classes = len(set(y_train))\n",
    "\n",
    "print(\"Number of training examples =\", n_train)\n",
    "print(\"Number of testing examples =\", n_test)\n",
    "print(\"Image data shape =\", image_shape)\n",
    "print(\"Number of classes =\", n_classes)"
   ]
  },
  {
   "cell_type": "markdown",
   "metadata": {},
   "source": [
    "### Include an exploratory visualization of the dataset"
   ]
  },
  {
   "cell_type": "markdown",
   "metadata": {},
   "source": [
    "Visualize the German Traffic Signs Dataset using the pickled file(s). This is open ended, suggestions include: plotting traffic sign images, plotting the count of each sign, etc. \n",
    "\n",
    "The [Matplotlib](http://matplotlib.org/) [examples](http://matplotlib.org/examples/index.html) and [gallery](http://matplotlib.org/gallery.html) pages are a great resource for doing visualizations in Python.\n",
    "\n",
    "**NOTE:** It's recommended you start with something simple first. If you wish to do more, come back to it after you've completed the rest of the sections. It can be interesting to look at the distribution of classes in the training, validation and test set. Is the distribution the same? Are there more examples of some classes than others?"
   ]
  },
  {
   "cell_type": "markdown",
   "metadata": {},
   "source": [
    "##### Display same category images from X_train (for a given value from y_train)"
   ]
  },
  {
   "cell_type": "code",
   "execution_count": 41,
   "metadata": {},
   "outputs": [
    {
     "name": "stdout",
     "output_type": "stream",
     "text": [
      "(32, 32, 3)\n",
      "Selected category: 30\n"
     ]
    },
    {
     "data": {
      "text/plain": [
       "<matplotlib.image.AxesImage at 0x7fa3c96d1390>"
      ]
     },
     "execution_count": 41,
     "metadata": {},
     "output_type": "execute_result"
    },
    {
     "data": {
      "image/png": "[encoded data removed]",
      "text/plain": [
       "<matplotlib.figure.Figure at 0x7fa46e3e69b0>"
      ]
     },
     "metadata": {},
     "output_type": "display_data"
    },
    {
     "data": {
      "image/png": "[encoded data removed]",
      "text/plain": [
       "<matplotlib.figure.Figure at 0x7fa3a6d3b1d0>"
      ]
     },
     "metadata": {},
     "output_type": "display_data"
    },
    {
     "data": {
      "image/png": "[encoded data removed]",
      "text/plain": [
       "<matplotlib.figure.Figure at 0x7fa3a6d3b320>"
      ]
     },
     "metadata": {},
     "output_type": "display_data"
    },
    {
     "data": {
      "image/png": "[encoded data removed]",
      "text/plain": [
       "<matplotlib.figure.Figure at 0x7fa46e33c6a0>"
      ]
     },
     "metadata": {},
     "output_type": "display_data"
    },
    {
     "data": {
      "image/png": "[encoded data removed]",
      "text/plain": [
       "<matplotlib.figure.Figure at 0x7fa41deef7f0>"
      ]
     },
     "metadata": {},
     "output_type": "display_data"
    },
    {
     "data": {
      "image/png": "[encoded data removed]",
      "text/plain": [
       "<matplotlib.figure.Figure at 0x7fa46e3c99b0>"
      ]
     },
     "metadata": {},
     "output_type": "display_data"
    },
    {
     "data": {
      "image/png": "[encoded data removed]",
      "text/plain": [
       "<matplotlib.figure.Figure at 0x7fa3a6ea4b70>"
      ]
     },
     "metadata": {},
     "output_type": "display_data"
    }
   ],
   "source": [
    "### Data exploration visualization code goes here.\n",
    "### Feel free to use as many code cells as needed.\n",
    "import matplotlib.pyplot as plt\n",
    "import random\n",
    "import numpy as np\n",
    "import matplotlib.pyplot as plt\n",
    "%matplotlib inline\n",
    "\n",
    "index = random.randint(0, len(X_train))\n",
    "image = X_train[index]\n",
    "print(image.shape)\n",
    "plt.figure(figsize=(1,1))\n",
    "plt.imshow(image)\n",
    "print('Selected category:', y_train[index])\n",
    "\n",
    "#Get the list of indexes for a given category\n",
    "same_img_list = np.where(y_train==y_train[index])\n",
    "#print(same_img_list)\n",
    "\n",
    "# Show first few signs to make sure they are same\n",
    "for i in range(0, 5):\n",
    "    image = X_train[same_img_list[0][i]].squeeze()\n",
    "    #print(image.shape)\n",
    "    plt.figure(figsize=(1,1))\n",
    "    plt.imshow(image)\n",
    "# Show the last image to make sure they are same\n",
    "image = X_train[same_img_list[0][-1]].squeeze()\n",
    "plt.figure(figsize=(1,1))\n",
    "plt.imshow(image)\n",
    "#for i in range(0, 10):\n",
    "#   print (same_img_list[i])"
   ]
  },
  {
   "cell_type": "code",
   "execution_count": 42,
   "metadata": {
    "collapsed": true
   },
   "outputs": [],
   "source": [
    "### Data exploration visualization code goes here.\n",
    "### Feel free to use as many code cells as needed.\n",
    "import matplotlib.pyplot as plt\n",
    "# Visualizations will be shown in the notebook.\n",
    "%matplotlib inline"
   ]
  },
  {
   "cell_type": "markdown",
   "metadata": {},
   "source": [
    "----\n",
    "\n",
    "## Step 2: Design and Test a Model Architecture\n",
    "\n",
    "Design and implement a deep learning model that learns to recognize traffic signs. Train and test your model on the [German Traffic Sign Dataset](http://benchmark.ini.rub.de/?section=gtsrb&subsection=dataset).\n",
    "\n",
    "The LeNet-5 implementation shown in the [classroom](https://classroom.udacity.com/nanodegrees/nd013/parts/fbf77062-5703-404e-b60c-95b78b2f3f9e/modules/6df7ae49-c61c-4bb2-a23e-6527e69209ec/lessons/601ae704-1035-4287-8b11-e2c2716217ad/concepts/d4aca031-508f-4e0b-b493-e7b706120f81) at the end of the CNN lesson is a solid starting point. You'll have to change the number of classes and possibly the preprocessing, but aside from that it's plug and play! \n",
    "\n",
    "With the LeNet-5 solution from the lecture, you should expect a validation set accuracy of about 0.89. To meet specifications, the validation set accuracy will need to be at least 0.93. It is possible to get an even higher accuracy, but 0.93 is the minimum for a successful project submission. \n",
    "\n",
    "There are various aspects to consider when thinking about this problem:\n",
    "\n",
    "- Neural network architecture (is the network over or underfitting?)\n",
    "- Play around preprocessing techniques (normalization, rgb to grayscale, etc)\n",
    "- Number of examples per label (some have more than others).\n",
    "- Generate fake data.\n",
    "\n",
    "Here is an example of a [published baseline model on this problem](http://yann.lecun.com/exdb/publis/pdf/sermanet-ijcnn-11.pdf). It's not required to be familiar with the approach used in the paper but, it's good practice to try to read papers like these."
   ]
  },
  {
   "cell_type": "markdown",
   "metadata": {},
   "source": [
    "### Pre-process the Data Set (normalization, grayscale, etc.)"
   ]
  },
  {
   "cell_type": "markdown",
   "metadata": {},
   "source": [
    "Minimally, the image data should be normalized so that the data has mean zero and equal variance. For image data, `(pixel - 128)/ 128` is a quick way to approximately normalize the data and can be used in this project. \n",
    "\n",
    "Other pre-processing steps are optional. You can try different techniques to see if it improves performance. \n",
    "\n",
    "Use the code cell (or multiple code cells, if necessary) to implement the first step of your project."
   ]
  },
  {
   "cell_type": "code",
   "execution_count": 43,
   "metadata": {},
   "outputs": [
    {
     "name": "stdout",
     "output_type": "stream",
     "text": [
      "After ImageDataGenerator\n",
      "ZCA filter 38539\n",
      "Random Shifts 42279\n",
      "Feature standardization 46019\n"
     ]
    }
   ],
   "source": [
    "### Preprocess the data here. It is required to normalize the data. Other preprocessing steps could include \n",
    "### converting to grayscale, etc.\n",
    "### Feel free to use as many code cells as needed.\n",
    "\n",
    "### Normalize the data (from range 0-255 to -1 to 1)\n",
    "'''\n",
    "X_train_mod = X_train[:,:,:,:1]\n",
    "print(X_train_mod.shape)\n",
    "X_train_mod[:,:,:,0] = (X_train[:,:,:,0]*299. / 1000)+(X_train[:,:,:,1]*587. / 1000)+(X_train[:,:,:,2]*114. / 1000)\n",
    "#X_train_mod = (X_train_mod-128)/128\n",
    "X_valid_mod = X_valid[:,:,:,:1]\n",
    "X_valid_mod[:,:,:,0] = (X_valid[:,:,:,0]*299. / 1000)+(X_valid[:,:,:,1]*587. / 1000)+(X_valid[:,:,:,2]*114. / 1000)\n",
    "#X_valid_mod = (X_valid_mod-128)/128\n",
    "X_test_mod = X_test[:,:,:,:1]\n",
    "X_test_mod[:,:,:,0] = (X_test[:,:,:,0]*299. / 1000)+(X_test[:,:,:,1]*587. / 1000)+(X_test[:,:,:,2]*114. / 1000)\n",
    "#X_test_mod = (X_test_mod-128)/128\n",
    "print(np.max(X_train_mod))\n",
    "print(X_train_mod.shape)\n",
    "\n",
    "X_train = (X_train - 128)/128\n",
    "X_valid = (X_valid - 128)/128\n",
    "X_test =  (X_test - 128)/128\n",
    "'''\n",
    "### Keras for image augmentation\n",
    "\n",
    "from sklearn.utils import shuffle\n",
    "import random\n",
    "from keras.preprocessing.image import ImageDataGenerator\n",
    "from keras import backend as K\n",
    "X_train_mod = X_train.tolist()\n",
    "y_train_mod = y_train.tolist()\n",
    "\n",
    "init_list_size = len(y_train_mod)\n",
    "\n",
    "K.set_image_dim_ordering('tf')\n",
    "datagen = ImageDataGenerator(zca_whitening=True)\n",
    "print('After ImageDataGenerator')\n",
    "# fit parameters from data\n",
    "eachLoopSize = 1000\n",
    "startC = 0\n",
    "endC = 0\n",
    "numLoops = int(init_list_size/eachLoopSize)\n",
    "for k in range(0, numLoops):\n",
    "    startC = endC\n",
    "    endC = startC + eachLoopSize\n",
    "\n",
    "    list_of_indices = random.sample(range(startC, endC), int(eachLoopSize/10))\n",
    "    batch_size = 10\n",
    "    datagen.fit(X_train[list_of_indices])\n",
    "    batches = 0\n",
    "    for batch_x, batch_y in datagen.flow(X_train[list_of_indices], y_train[list_of_indices], batch_size=batch_size):\n",
    "        for i in range(0, batch_size):\n",
    "            X_train_mod.append(batch_x[i])\n",
    "            y_train_mod.append(batch_y[i])\n",
    "\n",
    "        batches += 1\n",
    "        if (batches > batch_size):\n",
    "            break\n",
    "print('ZCA filter', len(X_train_mod))\n",
    "\n",
    "# Random Shifts\n",
    "shift = 0.2\n",
    "datagen = ImageDataGenerator(width_shift_range=shift, height_shift_range=shift)\n",
    "# fit parameters from data\n",
    "eachLoopSize = 1000\n",
    "startC = 0\n",
    "endC = 0\n",
    "numLoops = int(init_list_size/eachLoopSize)\n",
    "for k in range(0, numLoops):\n",
    "    startC = endC\n",
    "    endC = startC + eachLoopSize\n",
    "\n",
    "    list_of_indices = random.sample(range(startC, endC), int(eachLoopSize/10))\n",
    "    batch_size = 10\n",
    "    datagen.fit(X_train[list_of_indices])\n",
    "    batches = 0\n",
    "    for batch_x, batch_y in datagen.flow(X_train[list_of_indices], y_train[list_of_indices], batch_size=batch_size):\n",
    "        for i in range(0, batch_size):\n",
    "            X_train_mod.append(batch_x[i])\n",
    "            y_train_mod.append(batch_y[i])\n",
    "\n",
    "        batches += 1\n",
    "        if (batches > batch_size):\n",
    "            break\n",
    "print('Random Shifts', len(X_train_mod))\n",
    "                             \n",
    "# Feature standardization\n",
    "datagen = ImageDataGenerator(rotation_range=90)\n",
    "# fit parameters from data\n",
    "eachLoopSize = 1000\n",
    "startC = 0\n",
    "endC = 0\n",
    "numLoops = int(init_list_size/eachLoopSize)\n",
    "for k in range(0, numLoops):\n",
    "    startC = endC\n",
    "    endC = startC + eachLoopSize\n",
    "\n",
    "    list_of_indices = random.sample(range(startC, endC), int(eachLoopSize/10))\n",
    "    batch_size = 10\n",
    "    datagen.fit(X_train[list_of_indices])\n",
    "    batches = 0\n",
    "    for batch_x, batch_y in datagen.flow(X_train[list_of_indices], y_train[list_of_indices], batch_size=batch_size):\n",
    "        for i in range(0, batch_size):\n",
    "            X_train_mod.append(batch_x[i])\n",
    "            y_train_mod.append(batch_y[i])\n",
    "\n",
    "        batches += 1\n",
    "        if (batches > batch_size):\n",
    "            break\n",
    "print('Feature standardization', len(X_train_mod))\n",
    "\n",
    "### Shuffle the train data\n",
    "X_train, y_train = shuffle(X_train_mod, y_train_mod)"
   ]
  },
  {
   "cell_type": "code",
   "execution_count": 51,
   "metadata": {
    "collapsed": true
   },
   "outputs": [],
   "source": [
    "X_train = np.array(X_train_mod)\n",
    "y_train = np.array(y_train_mod)"
   ]
  },
  {
   "cell_type": "code",
   "execution_count": 53,
   "metadata": {},
   "outputs": [
    {
     "name": "stdout",
     "output_type": "stream",
     "text": [
      "(46019, 32, 32, 3)\n"
     ]
    }
   ],
   "source": [
    "print(X_train.shape)\n",
    "X_train = X_train/255\n",
    "X_valid = X_valid /255"
   ]
  },
  {
   "cell_type": "markdown",
   "metadata": {},
   "source": [
    "\n",
    "### Model Architecture"
   ]
  },
  {
   "cell_type": "code",
   "execution_count": 54,
   "metadata": {},
   "outputs": [
    {
     "data": {
      "text/plain": [
       "'\\nindex = random.randint(0, len(X_train))\\nimage = X_train[index]\\n#print(image.shape)\\nplt.figure(figsize=(1,1))\\nplt.imshow(image)\\n'"
      ]
     },
     "execution_count": 54,
     "metadata": {},
     "output_type": "execute_result"
    }
   ],
   "source": [
    "'''\n",
    "index = random.randint(0, len(X_train))\n",
    "image = X_train[index]\n",
    "#print(image.shape)\n",
    "plt.figure(figsize=(1,1))\n",
    "plt.imshow(image)\n",
    "'''\n",
    "#print(X_train.shape)"
   ]
  },
  {
   "cell_type": "code",
   "execution_count": 55,
   "metadata": {
    "collapsed": true
   },
   "outputs": [],
   "source": [
    "### Define your architecture here.\n",
    "### Feel free to use as many code cells as needed.\n",
    "\n",
    "# Hyperparameters\n",
    "mu = 0.0\n",
    "sigma = 0.1\n",
    "base_rate = 0.0005 #Base learning rate\n",
    "dropout = 0.5 #dropout rate\n",
    "keep_prob = 0.5\n",
    "rate = base_rate\n",
    "def conv_layer(x, filter_w, in_d, out_d):\n",
    "    conv_W = tf.Variable(tf.truncated_normal(shape=(filter_w, filter_w, in_d, out_d), mean = mu, stddev = sigma))\n",
    "    conv_b = tf.Variable(tf.zeros(out_d))\n",
    "    conv_res   = tf.nn.conv2d(x, conv_W, strides=[1, 1, 1, 1], padding='SAME') + conv_b\n",
    "    return conv_res\n",
    "\n",
    "def conv_relu_layer(x, filter_w, in_d, out_d):\n",
    "    conv_W = tf.Variable(tf.truncated_normal(shape=(filter_w, filter_w, in_d, out_d), mean = mu, stddev = sigma))\n",
    "    conv_b = tf.Variable(tf.zeros(out_d))\n",
    "    conv_res   = tf.nn.conv2d(x, conv_W, strides=[1, 1, 1, 1], padding='SAME') + conv_b\n",
    "    return tf.nn.relu(conv_res)\n",
    "\n",
    "def maxpool_layer(x, filter_w):\n",
    "    return tf.nn.max_pool(x,ksize=[1,filter_w,filter_w,1], strides=[1,1,1,1],padding='SAME')\n",
    "\n",
    "def maxpool_stride_layer(x, filter_w, s):\n",
    "    return tf.nn.max_pool(x,ksize=[1,filter_w,filter_w,1], strides=[1,s,s,1],padding='VALID')\n",
    "\n",
    "def fc_layer(x, a, b):\n",
    "    fc_W = tf.Variable(tf.truncated_normal(shape=(a, b), mean = mu, stddev = sigma))\n",
    "    fc_b = tf.Variable(tf.zeros(b))\n",
    "    fc = tf.matmul(x, fc_W) + fc_b\n",
    "    return tf.nn.relu(fc)\n",
    "\n",
    "#number of outputs on the first and the second inception modules\n",
    "d_1 = 64\n",
    "d_2 = 128\n",
    "d_1x1 = 32\n",
    "\n",
    "def inception_module(x, in_d, out_d):\n",
    "    conv1x1 = conv_layer(x, 1, in_d, out_d)\n",
    "    print(conv1x1)\n",
    "    conv2 = conv_relu_layer(x, 1, in_d, d_1x1)\n",
    "    conv3 = conv_relu_layer(x, 1, in_d, d_1x1)\n",
    "    maxpool = maxpool_layer(x, 3)\n",
    "    conv_maxpool = conv_layer(maxpool, 1, in_d, out_d)\n",
    "    conv3x3 = conv_layer(conv2, 3, d_1x1, int(out_d/2))\n",
    "    conv3x3 = conv_layer(conv3x3, 1, int(out_d/2), out_d)\n",
    "    conv5x5 = conv_layer(conv3, 5, d_1x1, int(out_d/2))\n",
    "    conv5x5 = conv_layer(conv5x5, 1, int(out_d/2), out_d)\n",
    "    return tf.nn.relu(tf.concat(3, [conv1x1, conv3x3, conv5x5, conv_maxpool]))\n",
    "    \n",
    "def Net(x, out=43):    \n",
    "    conv1 = conv_relu_layer(x, 1, 3, 3) #32x32x3\n",
    "    conv2 = conv_relu_layer(conv1, 5, 3, 64) #32x32x32\n",
    "    incept1 = inception_module(conv2, 64, d_1) #32x32x256\n",
    "    print(incept1)\n",
    "    maxpool1 = maxpool_stride_layer(incept1, 2, 2) #16x16x256\n",
    "    print(maxpool1)\n",
    "    incept2 = inception_module(maxpool1, d_1*4, d_2) #16x16x512\n",
    "    print(incept2)\n",
    "    maxpool2 = maxpool_stride_layer(incept2, 3, 2) #7x7x512\n",
    "    print(maxpool2)\n",
    "    conv3 = conv_layer(maxpool2, 1, 512, 256) #7x7x256\n",
    "    print(conv3)\n",
    "    fc0 = flatten(conv3)\n",
    "    fc1 = fc_layer(fc0, 256*7*7, 512)\n",
    "    fc1 = tf.nn.dropout(fc1, keep_prob)     \n",
    "    fc2_W  = tf.Variable(tf.truncated_normal(shape=(512, out), mean = mu, stddev = sigma))\n",
    "    fc2_b  = tf.Variable(tf.zeros(out))\n",
    "    logits = tf.matmul(fc1, fc2_W) + fc2_b\n",
    "    return logits"
   ]
  },
  {
   "cell_type": "code",
   "execution_count": 56,
   "metadata": {
    "collapsed": true
   },
   "outputs": [],
   "source": [
    "### Define your architecture here.\n",
    "### Feel free to use as many code cells as needed.\n",
    "import math\n",
    "import tensorflow as tf\n",
    "from tensorflow.contrib.layers import flatten\n",
    "from tqdm import tqdm\n",
    "#'''\n",
    "dropout = 0.50\n",
    "\n",
    "def conv2d(x, W, b, strides=1):\n",
    "    x = tf.nn.conv2d(x, W, strides=[1, strides, strides, 1], padding='VALID')\n",
    "    x = tf.nn.bias_add(x, b)\n",
    "    return tf.nn.relu(x)\n",
    "\n",
    "def maxpool2d(x, k=2):\n",
    "    return tf.nn.max_pool(\n",
    "        x,\n",
    "        ksize=[1, k, k, 1],\n",
    "        strides=[1, k, k, 1],\n",
    "        padding='VALID')\n",
    "\n",
    "def maxpool2d_with_s1(x, k=2):\n",
    "    return tf.nn.max_pool(\n",
    "        x,\n",
    "        ksize=[1, k, k, 1],\n",
    "        strides=[1, 1, 1, 1],\n",
    "        padding='VALID')\n",
    "#'''\n",
    "def LeNet(x):    \n",
    "    # Arguments used for tf.truncated_normal, randomly defines variables for the weights and biases for each layer\n",
    "    mu = 0\n",
    "    sigma = 0.1\n",
    "    \n",
    "    weights = {\n",
    "    'wc1': tf.Variable(tf.truncated_normal([5, 5, 3, 3], mu, sigma)),\n",
    "    'wc2': tf.Variable(tf.truncated_normal([5, 5, 3, 32], mu, sigma)),\n",
    "    'wc3': tf.Variable(tf.truncated_normal([3, 3, 32, 256], mu, sigma)),    \n",
    "    'fc1': tf.Variable(tf.truncated_normal([2*2*256, 1024], mu, sigma)),\n",
    "    'fc2': tf.Variable(tf.truncated_normal([1024, 512], mu, sigma)),\n",
    "    'out': tf.Variable(tf.truncated_normal([512, n_classes], mu, sigma))}\n",
    "\n",
    "    biases = {\n",
    "    'bc1': tf.Variable(tf.truncated_normal([3], mu, sigma)),\n",
    "    'bc2': tf.Variable(tf.truncated_normal([32], mu, sigma)),\n",
    "    'bc3': tf.Variable(tf.truncated_normal([256], mu, sigma)),\n",
    "    'fc1': tf.Variable(tf.truncated_normal([1024], mu, sigma)),\n",
    "    'fc2': tf.Variable(tf.truncated_normal([512], mu, sigma)),\n",
    "    'out': tf.Variable(tf.truncated_normal([n_classes], mu, sigma))}\n",
    "    \n",
    "\n",
    "    \n",
    "    # TODO: Layer 1: Convolutional. Input = 32x32x1. Output = 28x28x6.\n",
    "    # Since the input is 32x32 and the output should be 28x28x6 - the filter should be 5x5x6 \n",
    "    # with a stride of 1 with padding as VALID\n",
    "    # Using Relu as activation\n",
    "    conv1 = conv2d(x, weights['wc1'], biases['bc1'])\n",
    "    print(conv1)\n",
    "\n",
    "    # TODO: Activation.\n",
    "\n",
    "    # TODO: Pooling. Input = 28x28x6. Output = 14x14x6.\n",
    "    # with stride as 2, and kernel size as 2 will get the output to be 14x14x6 (no change in depth)\n",
    "    conv1 = maxpool2d(conv1, k=2)\n",
    "    print(conv1)\n",
    "\n",
    "    # TODO: Layer 2: Convolutional. Output = 10x10x16.\n",
    "    # For this Kernel the i/p depth is 6 and o/p depth is 16\n",
    "    # To get 10x10 from 14x14 - consider 5x5 kernel with stride of 1, padding VALID\n",
    "    conv2 = conv2d(conv1, weights['wc2'], biases['bc2'])\n",
    "    print(conv2)\n",
    "    # TODO: Activation.\n",
    "\n",
    "    # TODO: Pooling. Input = 10x10x16. Output = 5x5x16.\n",
    "    # With stride of 2 and kernel size 2x2, the height and width to be reduced to half\n",
    "    conv2 = maxpool2d(conv2, k=2)\n",
    "    print(conv2)\n",
    "    \n",
    "    \n",
    "    # TODO: Layer 3: Convolutional. Input = 5x5x16 Output = 3x3x32.\n",
    "    # For this Kernel the i/p depth is 16 and o/p depth is 32\n",
    "    # To get 3x3 from 5x5 - consider 3x3 kernel with stride of 1, padding VALID\n",
    "    conv3 = conv2d(conv2, weights['wc3'], biases['bc3'])\n",
    "    print(conv3)\n",
    "    # TODO: Activation.\n",
    "\n",
    "    # TODO: Pooling. Input = 3x3x32. Output = 2x2x32.\n",
    "    # With stride of 2 and kernel size 2x2, the height and width to be reduced to half\n",
    "    conv3 = maxpool2d_with_s1(conv3, k=2)\n",
    "    print(conv3)\n",
    "    \n",
    "    # TODO: Flatten. Input = 2x2x32. Output = 128.\n",
    "    # Preparing this conv layer weights to 400 flat unit array  (5*5*16=400)\n",
    "    # Essentially it looks like\n",
    "    #    fc1 = tf.reshape(conv2, [-1, 128])\n",
    "    fc1 = tf.reshape(conv3, [-1, weights['fc1'].get_shape().as_list()[0]])\n",
    "    #fc1 = flatten(conv2)\n",
    "    print(fc1)\n",
    "    \n",
    "    # TODO: Layer 3: Fully Connected. Input = 128. Output = 128.\n",
    "    fc1 = tf.add(tf.matmul(fc1, weights['fc1']), biases['fc1'])\n",
    "    \n",
    "    # TODO: Activation.\n",
    "    fc1 = tf.nn.relu(fc1)\n",
    "\n",
    "    # TODO: Layer 4: Fully Connected. Input = 128. Output = 172.\n",
    "    fc2 = tf.add(tf.matmul(fc1, weights['fc2']), biases['fc2'])\n",
    "    print(fc2)\n",
    "    # TODO: Activation.\n",
    "    fc2 = tf.nn.relu(fc2)\n",
    "    fc2 = tf.nn.dropout(fc2, dropout)\n",
    "    \n",
    "    # TODO: Layer 5: Fully Connected. Input = 172. Output = 43.\n",
    "    logits = tf.add(tf.matmul(fc2, weights['out']), biases['out'])\n",
    "    print(logits)\n",
    "    \n",
    "    return logits"
   ]
  },
  {
   "cell_type": "markdown",
   "metadata": {},
   "source": [
    "#### Define placeholders for Features and Labels "
   ]
  },
  {
   "cell_type": "code",
   "execution_count": 57,
   "metadata": {
    "collapsed": true
   },
   "outputs": [],
   "source": [
    "#nChannels = X_train_mod.shape[1:][2]\n",
    "\n",
    "#print (nChannels)\n",
    "x = tf.placeholder(tf.float32, (None, 32, 32, 3))\n",
    "y = tf.placeholder(tf.int32, (None))\n",
    "one_hot_y = tf.one_hot(y, n_classes)\n"
   ]
  },
  {
   "cell_type": "markdown",
   "metadata": {},
   "source": [
    "#### Define the training pipeline\n"
   ]
  },
  {
   "cell_type": "code",
   "execution_count": 58,
   "metadata": {},
   "outputs": [
    {
     "name": "stdout",
     "output_type": "stream",
     "text": [
      "Tensor(\"Relu_15:0\", shape=(?, 28, 28, 3), dtype=float32)\n",
      "Tensor(\"MaxPool_9:0\", shape=(?, 14, 14, 3), dtype=float32)\n",
      "Tensor(\"Relu_16:0\", shape=(?, 10, 10, 32), dtype=float32)\n",
      "Tensor(\"MaxPool_10:0\", shape=(?, 5, 5, 32), dtype=float32)\n",
      "Tensor(\"Relu_17:0\", shape=(?, 3, 3, 256), dtype=float32)\n",
      "Tensor(\"MaxPool_11:0\", shape=(?, 2, 2, 256), dtype=float32)\n",
      "Tensor(\"Reshape_12:0\", shape=(?, 1024), dtype=float32)\n",
      "Tensor(\"Add_10:0\", shape=(?, 512), dtype=float32)\n",
      "Tensor(\"Add_11:0\", shape=(?, 43), dtype=float32)\n"
     ]
    }
   ],
   "source": [
    "rate = 0.0005\n",
    "    \n",
    "logits = LeNet(x)\n",
    "cross_entropy = tf.nn.softmax_cross_entropy_with_logits(labels=one_hot_y, logits=logits)\n",
    "loss_operation = tf.reduce_mean(cross_entropy)\n",
    "optimizer = tf.train.AdamOptimizer(learning_rate = rate)\n",
    "training_operation = optimizer.minimize(loss_operation)"
   ]
  },
  {
   "cell_type": "markdown",
   "metadata": {},
   "source": [
    "#### Define validation pipeline"
   ]
  },
  {
   "cell_type": "code",
   "execution_count": 59,
   "metadata": {
    "collapsed": true
   },
   "outputs": [],
   "source": [
    "correct_prediction = tf.equal(tf.argmax(logits, 1), tf.argmax(one_hot_y, 1))\n",
    "accuracy_operation = tf.reduce_mean(tf.cast(correct_prediction, tf.float32))\n",
    "saver = tf.train.Saver()\n",
    "\n",
    "def evaluate(X_data, y_data):\n",
    "    num_examples = len(X_data)\n",
    "    total_accuracy = 0\n",
    "    sess = tf.get_default_session()\n",
    "    for offset in range(0, num_examples, BATCH_SIZE):\n",
    "        batch_x, batch_y = X_data[offset:offset+BATCH_SIZE], y_data[offset:offset+BATCH_SIZE]\n",
    "        accuracy = sess.run(accuracy_operation, feed_dict={x: batch_x, y: batch_y})\n",
    "        total_accuracy += (accuracy * len(batch_x))\n",
    "    return total_accuracy / num_examples"
   ]
  },
  {
   "cell_type": "markdown",
   "metadata": {},
   "source": [
    "### Train, Validate and Test the Model"
   ]
  },
  {
   "cell_type": "markdown",
   "metadata": {},
   "source": [
    "A validation set can be used to assess how well the model is performing. A low accuracy on the training and validation\n",
    "sets imply underfitting. A high accuracy on the training set but low accuracy on the validation set implies overfitting."
   ]
  },
  {
   "cell_type": "code",
   "execution_count": null,
   "metadata": {},
   "outputs": [
    {
     "name": "stdout",
     "output_type": "stream",
     "text": [
      "Training...\n",
      "\n",
      "EPOCH 1/150 ... Validation Accuracy = 0.680\n",
      "EPOCH 2/150 ... Validation Accuracy = 0.830\n",
      "EPOCH 3/150 ... Validation Accuracy = 0.871\n",
      "EPOCH 4/150 ... Validation Accuracy = 0.890\n",
      "EPOCH 5/150 ... Validation Accuracy = 0.898\n",
      "EPOCH 6/150 ... Validation Accuracy = 0.912\n",
      "EPOCH 7/150 ... Validation Accuracy = 0.905\n",
      "EPOCH 8/150 ... Validation Accuracy = 0.911\n",
      "EPOCH 9/150 ... Validation Accuracy = 0.904\n",
      "EPOCH 10/150 ... Validation Accuracy = 0.918\n",
      "EPOCH 11/150 ... Validation Accuracy = 0.923\n",
      "EPOCH 21/150 ... Validation Accuracy = 0.922\n",
      "EPOCH 31/150 ... Validation Accuracy = 0.929\n",
      "EPOCH 41/150 ... Validation Accuracy = 0.929\n",
      "EPOCH 51/150 ... Validation Accuracy = 0.937\n",
      "EPOCH 61/150 ... Validation Accuracy = 0.931\n",
      "EPOCH 71/150 ... Validation Accuracy = 0.934\n",
      "EPOCH 81/150 ... Validation Accuracy = 0.941\n",
      "EPOCH 91/150 ... Validation Accuracy = 0.916\n",
      "EPOCH 101/150 ... Validation Accuracy = 0.920\n"
     ]
    }
   ],
   "source": [
    "### Train your model here.\n",
    "### Calculate and report the accuracy on the training and validation set.\n",
    "### Once a final model architecture is selected, \n",
    "### the accuracy on the test set should be calculated and reported as well.\n",
    "### Feel free to use as many code cells as needed.\n",
    "'''\n",
    "from keras.preprocessing.image import ImageDataGenerator\n",
    "from keras import backend as K\n",
    "\n",
    "K.set_image_dim_ordering('tf')\n",
    "'''\n",
    "\n",
    "EPOCHS = 150\n",
    "BATCH_SIZE = 128\n",
    "\n",
    "valid_acc_batch = []\n",
    "epoch_list = []\n",
    "\n",
    "with tf.Session() as sess:\n",
    "    sess.run(tf.global_variables_initializer())\n",
    "    num_examples = len(X_train)\n",
    "    #print(X_train.shape)\n",
    "    batch_count = int(math.ceil(num_examples/BATCH_SIZE))\n",
    "    \n",
    "    print(\"Training...\")\n",
    "    print()\n",
    "    for i in range(EPOCHS):\n",
    "        \n",
    "        X_train, y_train = shuffle(X_train, y_train)\n",
    "        \n",
    "       \n",
    "        for offset in range(0, num_examples, BATCH_SIZE):\n",
    "            end = offset + BATCH_SIZE\n",
    "            batch_x, batch_y = X_train[offset:end], y_train[offset:end]\n",
    "            #print(batch_x.shape)\n",
    "            sess.run(training_operation, feed_dict={x: batch_x, y: batch_y})\n",
    "        '''\n",
    "        \n",
    "        # ZCA whitening\n",
    "        X_train_dup = X_train[0:16*100]\n",
    "        print(X_train_dup.shape)\n",
    "        # define data preparation\n",
    "        datagen = ImageDataGenerator(zca_whitening=True)\n",
    "        print('After ImageDataGenerator')\n",
    "        # fit parameters from data\n",
    "        datagen.fit(X_train_dup)\n",
    "        print('After fit')\n",
    "        # configure batch size and retrieve one batch of images\n",
    "        for batch_x, batch_y in datagen.flow(X_train_dup, y_train[0:16*100], batch_size=16):\n",
    "            #print(batch_x.shape)\n",
    "            sess.run(training_operation, feed_dict={x: batch_x, y: batch_y})  \n",
    "        \n",
    "         '''\n",
    "        validation_accuracy = evaluate(X_valid, y_valid)\n",
    "        valid_acc_batch.append(validation_accuracy)\n",
    "        epoch_list.append(i)\n",
    "        # Progress bar\n",
    "        if ((i< 10) or (((i%10) == 0) and (i < 100)) or (((i%50) == 0) and (i < 1000))):\n",
    "            #batches_pbar = tqdm(validation_accuracy, desc='Epoch {:>2}/{}'.format(i+1, EPOCHS), unit='accuracy')\n",
    "            print(\"EPOCH {}/{} ... Validation Accuracy = {:.3f}\".format(i+1, EPOCHS, validation_accuracy))\n",
    "            #print(\"Validation Accuracy = {:.3f}\".format(validation_accuracy))\n",
    "        \n",
    "        #print()\n",
    "        \n",
    "    saver.save(sess, './traffic_signal_lenet')\n",
    "    print(\"Model saved\")\n",
    "\n",
    "acc_plot = plt.subplot(212)\n",
    "acc_plot.set_title('Accuracy')\n",
    "acc_plot.plot(epoch_list, valid_acc_batch, 'x', label='Validation Accuracy')\n",
    "acc_plot.set_ylim([0, 1.0])\n",
    "acc_plot.set_xlim([epoch_list[0], epoch_list[-1]])\n",
    "acc_plot.legend(loc=4)\n",
    "plt.tight_layout()\n",
    "plt.show()\n"
   ]
  },
  {
   "cell_type": "markdown",
   "metadata": {},
   "source": [
    "---\n",
    "\n",
    "## Step 3: Test a Model on New Images\n",
    "\n",
    "To give yourself more insight into how your model is working, download at least five pictures of German traffic signs from the web and use your model to predict the traffic sign type.\n",
    "\n",
    "You may find `signnames.csv` useful as it contains mappings from the class id (integer) to the actual sign name."
   ]
  },
  {
   "cell_type": "markdown",
   "metadata": {},
   "source": [
    "### Load and Output the Images"
   ]
  },
  {
   "cell_type": "code",
   "execution_count": null,
   "metadata": {
    "collapsed": true
   },
   "outputs": [],
   "source": [
    "### Load the images and plot them here.\n",
    "### Feel free to use as many code cells as needed."
   ]
  },
  {
   "cell_type": "markdown",
   "metadata": {},
   "source": [
    "### Predict the Sign Type for Each Image"
   ]
  },
  {
   "cell_type": "code",
   "execution_count": 3,
   "metadata": {
    "collapsed": true
   },
   "outputs": [],
   "source": [
    "### Run the predictions here and use the model to output the prediction for each image.\n",
    "### Make sure to pre-process the images with the same pre-processing pipeline used earlier.\n",
    "### Feel free to use as many code cells as needed."
   ]
  },
  {
   "cell_type": "markdown",
   "metadata": {},
   "source": [
    "### Analyze Performance"
   ]
  },
  {
   "cell_type": "code",
   "execution_count": 4,
   "metadata": {
    "collapsed": true
   },
   "outputs": [],
   "source": [
    "### Calculate the accuracy for these 5 new images. \n",
    "### For example, if the model predicted 1 out of 5 signs correctly, it's 20% accurate on these new images."
   ]
  },
  {
   "cell_type": "markdown",
   "metadata": {},
   "source": [
    "### Output Top 5 Softmax Probabilities For Each Image Found on the Web"
   ]
  },
  {
   "cell_type": "markdown",
   "metadata": {},
   "source": [
    "For each of the new images, print out the model's softmax probabilities to show the **certainty** of the model's predictions (limit the output to the top 5 probabilities for each image). [`tf.nn.top_k`](https://www.tensorflow.org/versions/r0.12/api_docs/python/nn.html#top_k) could prove helpful here. \n",
    "\n",
    "The example below demonstrates how tf.nn.top_k can be used to find the top k predictions for each image.\n",
    "\n",
    "`tf.nn.top_k` will return the values and indices (class ids) of the top k predictions. So if k=3, for each sign, it'll return the 3 largest probabilities (out of a possible 43) and the correspoding class ids.\n",
    "\n",
    "Take this numpy array as an example. The values in the array represent predictions. The array contains softmax probabilities for five candidate images with six possible classes. `tk.nn.top_k` is used to choose the three classes with the highest probability:\n",
    "\n",
    "```\n",
    "# (5, 6) array\n",
    "a = np.array([[ 0.24879643,  0.07032244,  0.12641572,  0.34763842,  0.07893497,\n",
    "         0.12789202],\n",
    "       [ 0.28086119,  0.27569815,  0.08594638,  0.0178669 ,  0.18063401,\n",
    "         0.15899337],\n",
    "       [ 0.26076848,  0.23664738,  0.08020603,  0.07001922,  0.1134371 ,\n",
    "         0.23892179],\n",
    "       [ 0.11943333,  0.29198961,  0.02605103,  0.26234032,  0.1351348 ,\n",
    "         0.16505091],\n",
    "       [ 0.09561176,  0.34396535,  0.0643941 ,  0.16240774,  0.24206137,\n",
    "         0.09155967]])\n",
    "```\n",
    "\n",
    "Running it through `sess.run(tf.nn.top_k(tf.constant(a), k=3))` produces:\n",
    "\n",
    "```\n",
    "TopKV2(values=array([[ 0.34763842,  0.24879643,  0.12789202],\n",
    "       [ 0.28086119,  0.27569815,  0.18063401],\n",
    "       [ 0.26076848,  0.23892179,  0.23664738],\n",
    "       [ 0.29198961,  0.26234032,  0.16505091],\n",
    "       [ 0.34396535,  0.24206137,  0.16240774]]), indices=array([[3, 0, 5],\n",
    "       [0, 1, 4],\n",
    "       [0, 5, 1],\n",
    "       [1, 3, 5],\n",
    "       [1, 4, 3]], dtype=int32))\n",
    "```\n",
    "\n",
    "Looking just at the first row we get `[ 0.34763842,  0.24879643,  0.12789202]`, you can confirm these are the 3 largest probabilities in `a`. You'll also notice `[3, 0, 5]` are the corresponding indices."
   ]
  },
  {
   "cell_type": "code",
   "execution_count": 3,
   "metadata": {
    "collapsed": true
   },
   "outputs": [],
   "source": [
    "### Print out the top five softmax probabilities for the predictions on the German traffic sign images found on the web. \n",
    "### Feel free to use as many code cells as needed."
   ]
  },
  {
   "cell_type": "markdown",
   "metadata": {},
   "source": [
    "### Project Writeup\n",
    "\n",
    "Once you have completed the code implementation, document your results in a project writeup using this [template](https://github.com/udacity/CarND-Traffic-Sign-Classifier-Project/blob/master/writeup_template.md) as a guide. The writeup can be in a markdown or pdf file. "
   ]
  },
  {
   "cell_type": "markdown",
   "metadata": {},
   "source": [
    "> **Note**: Once you have completed all of the code implementations and successfully answered each question above, you may finalize your work by exporting the iPython Notebook as an HTML document. You can do this by using the menu above and navigating to  \\n\",\n",
    "    \"**File -> Download as -> HTML (.html)**. Include the finished document along with this notebook as your submission."
   ]
  },
  {
   "cell_type": "markdown",
   "metadata": {},
   "source": [
    "---\n",
    "\n",
    "## Step 4 (Optional): Visualize the Neural Network's State with Test Images\n",
    "\n",
    " This Section is not required to complete but acts as an additional excersise for understaning the output of a neural network's weights. While neural networks can be a great learning device they are often referred to as a black box. We can understand what the weights of a neural network look like better by plotting their feature maps. After successfully training your neural network you can see what it's feature maps look like by plotting the output of the network's weight layers in response to a test stimuli image. From these plotted feature maps, it's possible to see what characteristics of an image the network finds interesting. For a sign, maybe the inner network feature maps react with high activation to the sign's boundary outline or to the contrast in the sign's painted symbol.\n",
    "\n",
    " Provided for you below is the function code that allows you to get the visualization output of any tensorflow weight layer you want. The inputs to the function should be a stimuli image, one used during training or a new one you provided, and then the tensorflow variable name that represents the layer's state during the training process, for instance if you wanted to see what the [LeNet lab's](https://classroom.udacity.com/nanodegrees/nd013/parts/fbf77062-5703-404e-b60c-95b78b2f3f9e/modules/6df7ae49-c61c-4bb2-a23e-6527e69209ec/lessons/601ae704-1035-4287-8b11-e2c2716217ad/concepts/d4aca031-508f-4e0b-b493-e7b706120f81) feature maps looked like for it's second convolutional layer you could enter conv2 as the tf_activation variable.\n",
    "\n",
    "For an example of what feature map outputs look like, check out NVIDIA's results in their paper [End-to-End Deep Learning for Self-Driving Cars](https://devblogs.nvidia.com/parallelforall/deep-learning-self-driving-cars/) in the section Visualization of internal CNN State. NVIDIA was able to show that their network's inner weights had high activations to road boundary lines by comparing feature maps from an image with a clear path to one without. Try experimenting with a similar test to show that your trained network's weights are looking for interesting features, whether it's looking at differences in feature maps from images with or without a sign, or even what feature maps look like in a trained network vs a completely untrained one on the same sign image.\n",
    "\n",
    "<figure>\n",
    " <img src=\"visualize_cnn.png\" width=\"380\" alt=\"Combined Image\" />\n",
    " <figcaption>\n",
    " <p></p> \n",
    " <p style=\"text-align: center;\"> Your output should look something like this (above)</p> \n",
    " </figcaption>\n",
    "</figure>\n",
    " <p></p> \n"
   ]
  },
  {
   "cell_type": "code",
   "execution_count": null,
   "metadata": {
    "collapsed": true
   },
   "outputs": [],
   "source": [
    "### Visualize your network's feature maps here.\n",
    "### Feel free to use as many code cells as needed.\n",
    "\n",
    "# image_input: the test image being fed into the network to produce the feature maps\n",
    "# tf_activation: should be a tf variable name used during your training procedure that represents the calculated state of a specific weight layer\n",
    "# activation_min/max: can be used to view the activation contrast in more detail, by default matplot sets min and max to the actual min and max values of the output\n",
    "# plt_num: used to plot out multiple different weight feature map sets on the same block, just extend the plt number for each new feature map entry\n",
    "\n",
    "def outputFeatureMap(image_input, tf_activation, activation_min=-1, activation_max=-1 ,plt_num=1):\n",
    "    # Here make sure to preprocess your image_input in a way your network expects\n",
    "    # with size, normalization, ect if needed\n",
    "    # image_input =\n",
    "    # Note: x should be the same name as your network's tensorflow data placeholder variable\n",
    "    # If you get an error tf_activation is not defined it may be having trouble accessing the variable from inside a function\n",
    "    activation = tf_activation.eval(session=sess,feed_dict={x : image_input})\n",
    "    featuremaps = activation.shape[3]\n",
    "    plt.figure(plt_num, figsize=(15,15))\n",
    "    for featuremap in range(featuremaps):\n",
    "        plt.subplot(6,8, featuremap+1) # sets the number of feature maps to show on each row and column\n",
    "        plt.title('FeatureMap ' + str(featuremap)) # displays the feature map number\n",
    "        if activation_min != -1 & activation_max != -1:\n",
    "            plt.imshow(activation[0,:,:, featuremap], interpolation=\"nearest\", vmin =activation_min, vmax=activation_max, cmap=\"gray\")\n",
    "        elif activation_max != -1:\n",
    "            plt.imshow(activation[0,:,:, featuremap], interpolation=\"nearest\", vmax=activation_max, cmap=\"gray\")\n",
    "        elif activation_min !=-1:\n",
    "            plt.imshow(activation[0,:,:, featuremap], interpolation=\"nearest\", vmin=activation_min, cmap=\"gray\")\n",
    "        else:\n",
    "            plt.imshow(activation[0,:,:, featuremap], interpolation=\"nearest\", cmap=\"gray\")"
   ]
  }
 ],
 "metadata": {
  "anaconda-cloud": {},
  "kernelspec": {
   "display_name": "Python 3",
   "language": "python",
   "name": "python3"
  },
  "language_info": {
   "codemirror_mode": {
    "name": "ipython",
    "version": 3
   },
   "file_extension": ".py",
   "mimetype": "text/x-python",
   "name": "python",
   "nbconvert_exporter": "python",
   "pygments_lexer": "ipython3",
   "version": "3.5.2"
  },
  "widgets": {
   "state": {},
   "version": "1.1.2"
  }
 },
 "nbformat": 4,
 "nbformat_minor": 1
}
